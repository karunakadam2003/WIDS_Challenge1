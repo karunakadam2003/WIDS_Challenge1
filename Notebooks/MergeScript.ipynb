{
  "nbformat": 4,
  "nbformat_minor": 0,
  "metadata": {
    "colab": {
      "provenance": []
    },
    "kernelspec": {
      "name": "python3",
      "display_name": "Python 3"
    },
    "language_info": {
      "name": "python"
    }
  },
  "cells": [
    {
      "cell_type": "code",
      "source": [
        "import json\n",
        "\n",
        "def merge_notebooks(notebook_paths):\n",
        "    merged_cells = []\n",
        "\n",
        "    for path in notebook_paths:\n",
        "        try:\n",
        "            with open(path, 'r', encoding='utf-8') as f:\n",
        "                notebook = json.load(f)\n",
        "                cells = notebook['cells']\n",
        "                merged_cells.extend(cells)\n",
        "        except json.JSONDecodeError as e:\n",
        "            print(f\"Error decoding JSON in {path}: {e}\")\n",
        "\n",
        "    merged_notebook = {\n",
        "        \"cells\": merged_cells,\n",
        "        \"metadata\": {},\n",
        "        \"nbformat\": 4,\n",
        "        \"nbformat_minor\": 4\n",
        "    }\n",
        "\n",
        "    with open('merged_notebook.ipynb', 'w', encoding='utf-8') as f:\n",
        "        json.dump(merged_notebook, f, ensure_ascii=False, indent=2)\n",
        "\n",
        "# Example usage:\n",
        "notebook_paths = ['WIDS.ipynb', 'WIDS_EDA_AND_BMI (1).ipynb', 'WIDS_FeatureEngneering.ipynb','binning.ipynb','AutoMLCode.ipynb','process.ipynb']\n",
        "merge_notebooks(notebook_paths)\n"
      ],
      "metadata": {
        "id": "prfqMo7DBFsQ"
      },
      "execution_count": 10,
      "outputs": []
    }
  ]
}