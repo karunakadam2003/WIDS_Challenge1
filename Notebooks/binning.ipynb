{
 "cells": [
  {
   "cell_type": "code",
   "execution_count": 1,
   "metadata": {},
   "outputs": [],
   "source": [
    "import pandas as pd"
   ]
  },
  {
   "cell_type": "code",
   "execution_count": 7,
   "metadata": {},
   "outputs": [],
   "source": [
    "df = pd.read_csv(\"/home/prital/Hackathon/cleaned_dataset.csv\")"
   ]
  },
  {
   "cell_type": "code",
   "execution_count": 4,
   "metadata": {},
   "outputs": [
    {
     "name": "stdout",
     "output_type": "stream",
     "text": [
      "    patient_age age_group\n",
      "0            84     81-90\n",
      "1            62     61-70\n",
      "2            43     41-50\n",
      "3            45     41-50\n",
      "4            55     51-60\n",
      "5            66     61-70\n",
      "6            51     51-60\n",
      "7            60     61-70\n",
      "8            82     81-90\n",
      "9            64     61-70\n",
      "10           67     61-70\n",
      "11           66     61-70\n",
      "12           58     51-60\n",
      "13           82     81-90\n",
      "14           58     51-60\n",
      "15           62     61-70\n",
      "16           41     41-50\n",
      "17           83     81-90\n",
      "18           75     71-80\n",
      "19           60     61-70\n"
     ]
    }
   ],
   "source": [
    "age_bins = [0, 10, 20, 30, 40, 50, 60, 70, 80, 90, 100]  #bin edges\n",
    "age_labels = ['0-10', '11-20', '21-30', '31-40', '41-50','51-60','61-70', '71-80','81-90','90+']  \n",
    "\n",
    "df['age_group'] = pd.cut(df['patient_age'], bins=age_bins, labels=age_labels, right=False)\n",
    "\n",
    "print(df[['patient_age', 'age_group']].head(20))"
   ]
  },
  {
   "cell_type": "code",
   "execution_count": 29,
   "metadata": {},
   "outputs": [
    {
     "data": {
      "text/html": [
       "<div>\n",
       "<style scoped>\n",
       "    .dataframe tbody tr th:only-of-type {\n",
       "        vertical-align: middle;\n",
       "    }\n",
       "\n",
       "    .dataframe tbody tr th {\n",
       "        vertical-align: top;\n",
       "    }\n",
       "\n",
       "    .dataframe thead th {\n",
       "        text-align: right;\n",
       "    }\n",
       "</style>\n",
       "<table border=\"1\" class=\"dataframe\">\n",
       "  <thead>\n",
       "    <tr style=\"text-align: right;\">\n",
       "      <th></th>\n",
       "      <th>patient_id</th>\n",
       "      <th>patient_zip3</th>\n",
       "      <th>patient_age</th>\n",
       "      <th>population</th>\n",
       "      <th>density</th>\n",
       "      <th>age_median</th>\n",
       "      <th>age_under_10</th>\n",
       "      <th>age_10_to_19</th>\n",
       "      <th>age_20s</th>\n",
       "      <th>age_30s</th>\n",
       "      <th>...</th>\n",
       "      <th>Ozone</th>\n",
       "      <th>PM25</th>\n",
       "      <th>N02</th>\n",
       "      <th>DiagPeriodL90D</th>\n",
       "      <th>bmi_filled</th>\n",
       "      <th>merged_bmi</th>\n",
       "      <th>patient_income</th>\n",
       "      <th>bmi_cluster</th>\n",
       "      <th>age_cluster</th>\n",
       "      <th>income_cluster</th>\n",
       "    </tr>\n",
       "  </thead>\n",
       "  <tbody>\n",
       "    <tr>\n",
       "      <th>count</th>\n",
       "      <td>12906.000000</td>\n",
       "      <td>12906.000000</td>\n",
       "      <td>12906.000000</td>\n",
       "      <td>12906.000000</td>\n",
       "      <td>12906.000000</td>\n",
       "      <td>12906.000000</td>\n",
       "      <td>12906.000000</td>\n",
       "      <td>12906.000000</td>\n",
       "      <td>12906.000000</td>\n",
       "      <td>12906.000000</td>\n",
       "      <td>...</td>\n",
       "      <td>12906.000000</td>\n",
       "      <td>12906.000000</td>\n",
       "      <td>12906.000000</td>\n",
       "      <td>12906.000000</td>\n",
       "      <td>12906.000000</td>\n",
       "      <td>12906.000000</td>\n",
       "      <td>12906.000000</td>\n",
       "      <td>12906.000000</td>\n",
       "      <td>12906.000000</td>\n",
       "      <td>12906.000000</td>\n",
       "    </tr>\n",
       "    <tr>\n",
       "      <th>mean</th>\n",
       "      <td>547381.196033</td>\n",
       "      <td>573.754300</td>\n",
       "      <td>59.183326</td>\n",
       "      <td>20744.441237</td>\n",
       "      <td>1581.950419</td>\n",
       "      <td>40.502259</td>\n",
       "      <td>11.122784</td>\n",
       "      <td>12.945265</td>\n",
       "      <td>13.290376</td>\n",
       "      <td>12.862036</td>\n",
       "      <td>...</td>\n",
       "      <td>39.822352</td>\n",
       "      <td>7.475221</td>\n",
       "      <td>16.098988</td>\n",
       "      <td>0.624516</td>\n",
       "      <td>29.052048</td>\n",
       "      <td>29.031433</td>\n",
       "      <td>191359.248876</td>\n",
       "      <td>0.666124</td>\n",
       "      <td>1.214939</td>\n",
       "      <td>1.068495</td>\n",
       "    </tr>\n",
       "    <tr>\n",
       "      <th>std</th>\n",
       "      <td>260404.959974</td>\n",
       "      <td>275.447534</td>\n",
       "      <td>13.335216</td>\n",
       "      <td>13886.365702</td>\n",
       "      <td>2966.190375</td>\n",
       "      <td>4.036806</td>\n",
       "      <td>1.512318</td>\n",
       "      <td>1.923900</td>\n",
       "      <td>3.353973</td>\n",
       "      <td>2.324831</td>\n",
       "      <td>...</td>\n",
       "      <td>3.555491</td>\n",
       "      <td>1.514794</td>\n",
       "      <td>5.835933</td>\n",
       "      <td>0.484266</td>\n",
       "      <td>1.919170</td>\n",
       "      <td>3.686851</td>\n",
       "      <td>43353.164627</td>\n",
       "      <td>0.909306</td>\n",
       "      <td>0.855538</td>\n",
       "      <td>0.909694</td>\n",
       "    </tr>\n",
       "    <tr>\n",
       "      <th>min</th>\n",
       "      <td>100063.000000</td>\n",
       "      <td>101.000000</td>\n",
       "      <td>18.000000</td>\n",
       "      <td>635.545455</td>\n",
       "      <td>0.916667</td>\n",
       "      <td>20.600000</td>\n",
       "      <td>0.000000</td>\n",
       "      <td>6.314286</td>\n",
       "      <td>5.925000</td>\n",
       "      <td>1.500000</td>\n",
       "      <td>...</td>\n",
       "      <td>30.939316</td>\n",
       "      <td>2.636008</td>\n",
       "      <td>2.760371</td>\n",
       "      <td>0.000000</td>\n",
       "      <td>21.770614</td>\n",
       "      <td>14.000000</td>\n",
       "      <td>0.000000</td>\n",
       "      <td>0.000000</td>\n",
       "      <td>0.000000</td>\n",
       "      <td>0.000000</td>\n",
       "    </tr>\n",
       "    <tr>\n",
       "      <th>25%</th>\n",
       "      <td>321517.000000</td>\n",
       "      <td>331.000000</td>\n",
       "      <td>50.000000</td>\n",
       "      <td>9463.896552</td>\n",
       "      <td>171.857143</td>\n",
       "      <td>37.129825</td>\n",
       "      <td>10.160000</td>\n",
       "      <td>11.741176</td>\n",
       "      <td>11.013415</td>\n",
       "      <td>11.292105</td>\n",
       "      <td>...</td>\n",
       "      <td>37.698880</td>\n",
       "      <td>6.651215</td>\n",
       "      <td>11.280694</td>\n",
       "      <td>0.000000</td>\n",
       "      <td>28.242939</td>\n",
       "      <td>27.228774</td>\n",
       "      <td>162745.000000</td>\n",
       "      <td>0.000000</td>\n",
       "      <td>0.000000</td>\n",
       "      <td>0.000000</td>\n",
       "    </tr>\n",
       "    <tr>\n",
       "      <th>50%</th>\n",
       "      <td>543522.000000</td>\n",
       "      <td>554.000000</td>\n",
       "      <td>59.000000</td>\n",
       "      <td>19154.190480</td>\n",
       "      <td>700.337500</td>\n",
       "      <td>40.639344</td>\n",
       "      <td>11.039216</td>\n",
       "      <td>12.923944</td>\n",
       "      <td>12.538095</td>\n",
       "      <td>12.442647</td>\n",
       "      <td>...</td>\n",
       "      <td>39.108249</td>\n",
       "      <td>7.686577</td>\n",
       "      <td>15.589148</td>\n",
       "      <td>1.000000</td>\n",
       "      <td>29.052048</td>\n",
       "      <td>28.816609</td>\n",
       "      <td>183405.000000</td>\n",
       "      <td>0.000000</td>\n",
       "      <td>1.000000</td>\n",
       "      <td>1.000000</td>\n",
       "    </tr>\n",
       "    <tr>\n",
       "      <th>75%</th>\n",
       "      <td>772671.750000</td>\n",
       "      <td>846.000000</td>\n",
       "      <td>67.000000</td>\n",
       "      <td>30021.278690</td>\n",
       "      <td>1666.515385</td>\n",
       "      <td>42.934783</td>\n",
       "      <td>12.190000</td>\n",
       "      <td>14.019767</td>\n",
       "      <td>14.971053</td>\n",
       "      <td>14.026667</td>\n",
       "      <td>...</td>\n",
       "      <td>41.111066</td>\n",
       "      <td>8.276922</td>\n",
       "      <td>20.801880</td>\n",
       "      <td>1.000000</td>\n",
       "      <td>29.593527</td>\n",
       "      <td>30.765266</td>\n",
       "      <td>213250.000000</td>\n",
       "      <td>2.000000</td>\n",
       "      <td>2.000000</td>\n",
       "      <td>2.000000</td>\n",
       "    </tr>\n",
       "    <tr>\n",
       "      <th>max</th>\n",
       "      <td>999896.000000</td>\n",
       "      <td>999.000000</td>\n",
       "      <td>91.000000</td>\n",
       "      <td>71374.131580</td>\n",
       "      <td>21172.000000</td>\n",
       "      <td>54.570000</td>\n",
       "      <td>17.675000</td>\n",
       "      <td>35.300000</td>\n",
       "      <td>62.100000</td>\n",
       "      <td>25.471429</td>\n",
       "      <td>...</td>\n",
       "      <td>52.237210</td>\n",
       "      <td>11.169408</td>\n",
       "      <td>31.504775</td>\n",
       "      <td>1.000000</td>\n",
       "      <td>38.994355</td>\n",
       "      <td>85.000000</td>\n",
       "      <td>368922.000000</td>\n",
       "      <td>2.000000</td>\n",
       "      <td>2.000000</td>\n",
       "      <td>2.000000</td>\n",
       "    </tr>\n",
       "  </tbody>\n",
       "</table>\n",
       "<p>8 rows × 77 columns</p>\n",
       "</div>"
      ],
      "text/plain": [
       "          patient_id  patient_zip3   patient_age    population       density  \\\n",
       "count   12906.000000  12906.000000  12906.000000  12906.000000  12906.000000   \n",
       "mean   547381.196033    573.754300     59.183326  20744.441237   1581.950419   \n",
       "std    260404.959974    275.447534     13.335216  13886.365702   2966.190375   \n",
       "min    100063.000000    101.000000     18.000000    635.545455      0.916667   \n",
       "25%    321517.000000    331.000000     50.000000   9463.896552    171.857143   \n",
       "50%    543522.000000    554.000000     59.000000  19154.190480    700.337500   \n",
       "75%    772671.750000    846.000000     67.000000  30021.278690   1666.515385   \n",
       "max    999896.000000    999.000000     91.000000  71374.131580  21172.000000   \n",
       "\n",
       "         age_median  age_under_10  age_10_to_19       age_20s       age_30s  \\\n",
       "count  12906.000000  12906.000000  12906.000000  12906.000000  12906.000000   \n",
       "mean      40.502259     11.122784     12.945265     13.290376     12.862036   \n",
       "std        4.036806      1.512318      1.923900      3.353973      2.324831   \n",
       "min       20.600000      0.000000      6.314286      5.925000      1.500000   \n",
       "25%       37.129825     10.160000     11.741176     11.013415     11.292105   \n",
       "50%       40.639344     11.039216     12.923944     12.538095     12.442647   \n",
       "75%       42.934783     12.190000     14.019767     14.971053     14.026667   \n",
       "max       54.570000     17.675000     35.300000     62.100000     25.471429   \n",
       "\n",
       "       ...         Ozone          PM25           N02  DiagPeriodL90D  \\\n",
       "count  ...  12906.000000  12906.000000  12906.000000    12906.000000   \n",
       "mean   ...     39.822352      7.475221     16.098988        0.624516   \n",
       "std    ...      3.555491      1.514794      5.835933        0.484266   \n",
       "min    ...     30.939316      2.636008      2.760371        0.000000   \n",
       "25%    ...     37.698880      6.651215     11.280694        0.000000   \n",
       "50%    ...     39.108249      7.686577     15.589148        1.000000   \n",
       "75%    ...     41.111066      8.276922     20.801880        1.000000   \n",
       "max    ...     52.237210     11.169408     31.504775        1.000000   \n",
       "\n",
       "         bmi_filled    merged_bmi  patient_income   bmi_cluster   age_cluster  \\\n",
       "count  12906.000000  12906.000000    12906.000000  12906.000000  12906.000000   \n",
       "mean      29.052048     29.031433   191359.248876      0.666124      1.214939   \n",
       "std        1.919170      3.686851    43353.164627      0.909306      0.855538   \n",
       "min       21.770614     14.000000        0.000000      0.000000      0.000000   \n",
       "25%       28.242939     27.228774   162745.000000      0.000000      0.000000   \n",
       "50%       29.052048     28.816609   183405.000000      0.000000      1.000000   \n",
       "75%       29.593527     30.765266   213250.000000      2.000000      2.000000   \n",
       "max       38.994355     85.000000   368922.000000      2.000000      2.000000   \n",
       "\n",
       "       income_cluster  \n",
       "count    12906.000000  \n",
       "mean         1.068495  \n",
       "std          0.909694  \n",
       "min          0.000000  \n",
       "25%          0.000000  \n",
       "50%          1.000000  \n",
       "75%          2.000000  \n",
       "max          2.000000  \n",
       "\n",
       "[8 rows x 77 columns]"
      ]
     },
     "execution_count": 29,
     "metadata": {},
     "output_type": "execute_result"
    }
   ],
   "source": [
    "df.describe()"
   ]
  },
  {
   "cell_type": "code",
   "execution_count": 28,
   "metadata": {},
   "outputs": [
    {
     "name": "stdout",
     "output_type": "stream",
     "text": [
      "   bmi_filled bmi_category\n",
      "0   30.098605        Obese\n",
      "1   29.052048   Overweight\n",
      "2   29.052048   Overweight\n",
      "3   27.445879   Overweight\n",
      "4   26.759150   Overweight\n"
     ]
    }
   ],
   "source": [
    "import pandas as pd\n",
    "\n",
    "\n",
    "bmi_bins = [0, 18.5, 25, 30, float('inf')]  \n",
    "bmi_labels = ['Underweight', 'Normal Weight', 'Overweight', 'Obese']  \n",
    "\n",
    "df['bmi_category'] = pd.cut(df['bmi_filled'], bins=bmi_bins, labels=bmi_labels, right=False)\n",
    "\n",
    "print(df[['bmi_filled', 'bmi_category']].head())\n"
   ]
  },
  {
   "cell_type": "code",
   "execution_count": 10,
   "metadata": {},
   "outputs": [
    {
     "data": {
      "image/png": "[encoded data removed]",
      "text/plain": [
       "<Figure size 432x288 with 1 Axes>"
      ]
     },
     "metadata": {
      "needs_background": "light"
     },
     "output_type": "display_data"
    },
    {
     "name": "stdout",
     "output_type": "stream",
     "text": [
      "   bmi_filled  bmi_cluster\n",
      "0   30.098605            0\n",
      "1   29.052048            0\n",
      "2   29.052048            0\n",
      "3   27.445879            2\n",
      "4   26.759150            2\n"
     ]
    }
   ],
   "source": [
    "import pandas as pd\n",
    "from sklearn.cluster import KMeans\n",
    "import matplotlib.pyplot as plt\n",
    "\n",
    "bmi_data = df[['bmi_filled']]\n",
    "\n",
    "num_clusters = 3\n",
    "\n",
    "kmeans = KMeans(n_clusters=num_clusters, random_state=42)\n",
    "\n",
    "kmeans.fit(bmi_data)\n",
    "\n",
    "cluster_centers = kmeans.cluster_centers_\n",
    "cluster_labels = kmeans.labels_\n",
    "\n",
    "\n",
    "df['bmi_cluster'] = cluster_labels\n",
    "\n",
    "# Visualize\n",
    "plt.scatter(df['bmi_filled'], [0] * len(df), c=df['bmi_cluster'], cmap='viridis')\n",
    "plt.scatter(cluster_centers, [0] * num_clusters, marker='x', color='red', label='Cluster Centers')\n",
    "plt.xlabel('BMI')\n",
    "plt.ylabel('Cluster')\n",
    "plt.title('K-Means Clustering of BMI')\n",
    "plt.legend()\n",
    "plt.show()\n",
    "\n",
    "print(df[['bmi_filled', 'bmi_cluster']].head())\n"
   ]
  },
  {
   "cell_type": "code",
   "execution_count": 11,
   "metadata": {},
   "outputs": [
    {
     "data": {
      "image/png": "[encoded data removed]",
      "text/plain": [
       "<Figure size 432x288 with 1 Axes>"
      ]
     },
     "metadata": {
      "needs_background": "light"
     },
     "output_type": "display_data"
    },
    {
     "name": "stdout",
     "output_type": "stream",
     "text": [
      "   patient_age  age_cluster\n",
      "0           84            1\n",
      "1           62            2\n",
      "2           43            0\n",
      "3           45            0\n",
      "4           55            2\n"
     ]
    }
   ],
   "source": [
    "import pandas as pd\n",
    "from sklearn.cluster import KMeans\n",
    "import matplotlib.pyplot as plt\n",
    "\n",
    "age_data = df[['patient_age']]\n",
    "\n",
    "num_clusters = 3\n",
    "\n",
    "kmeans = KMeans(n_clusters=num_clusters, random_state=42)\n",
    "\n",
    "kmeans.fit(age_data)\n",
    "\n",
    "cluster_centers = kmeans.cluster_centers_\n",
    "cluster_labels = kmeans.labels_\n",
    "\n",
    "df['age_cluster'] = cluster_labels\n",
    "\n",
    "# Visualize \n",
    "plt.scatter(df['patient_age'], [0] * len(df), c=df['age_cluster'], cmap='viridis')\n",
    "plt.scatter(cluster_centers, [0] * num_clusters, marker='x', color='red', label='Cluster Centers')\n",
    "plt.xlabel('Patient Age')\n",
    "plt.ylabel('Cluster')\n",
    "plt.title('K-Means Clustering of Patient Age')\n",
    "plt.legend()\n",
    "plt.show()\n",
    "\n",
    "print(df[['patient_age', 'age_cluster']].head())\n"
   ]
  },
  {
   "cell_type": "code",
   "execution_count": 12,
   "metadata": {},
   "outputs": [
    {
     "data": {
      "image/png": "[encoded data removed]",
      "text/plain": [
       "<Figure size 432x288 with 1 Axes>"
      ]
     },
     "metadata": {
      "needs_background": "light"
     },
     "output_type": "display_data"
    },
    {
     "name": "stdout",
     "output_type": "stream",
     "text": [
      "   patient_income  income_cluster\n",
      "0          141003               0\n",
      "1          246510               1\n",
      "2          215720               2\n",
      "3          287354               1\n",
      "4          159516               0\n"
     ]
    }
   ],
   "source": [
    "import pandas as pd\n",
    "from sklearn.cluster import KMeans\n",
    "import matplotlib.pyplot as plt\n",
    "\n",
    "\n",
    "income_data = df[['patient_income']]\n",
    "\n",
    "\n",
    "num_clusters = 3\n",
    "\n",
    "kmeans = KMeans(n_clusters=num_clusters, random_state=42)\n",
    "\n",
    "kmeans.fit(income_data)\n",
    "\n",
    "cluster_centers = kmeans.cluster_centers_\n",
    "cluster_labels = kmeans.labels_\n",
    "\n",
    "df['income_cluster'] = cluster_labels\n",
    "\n",
    "# Visualize\n",
    "plt.scatter(df['patient_income'], [0] * len(df), c=df['income_cluster'], cmap='viridis')\n",
    "plt.scatter(cluster_centers, [0] * num_clusters, marker='x', color='red', label='Cluster Centers')\n",
    "plt.xlabel('Patient Income')\n",
    "plt.ylabel('Cluster')\n",
    "plt.title('K-Means Clustering of Patient Income')\n",
    "plt.legend()\n",
    "plt.show()\n",
    "\n",
    "print(df[['patient_income', 'income_cluster']].head())\n"
   ]
  },
  {
   "cell_type": "code",
   "execution_count": 22,
   "metadata": {},
   "outputs": [],
   "source": [
    "\n",
    "cluster_diagnosis_df = df[['age_cluster', 'DiagPeriodL90D']]\n"
   ]
  },
  {
   "cell_type": "code",
   "execution_count": 23,
   "metadata": {},
   "outputs": [
    {
     "name": "stdout",
     "output_type": "stream",
     "text": [
      "DiagPeriodL90D     0     1\n",
      "age_cluster               \n",
      "0               1479  2155\n",
      "1                977  1887\n",
      "2               2390  4018\n"
     ]
    }
   ],
   "source": [
    "cancer_cases_in_clusters = cluster_diagnosis_df.groupby(['age_cluster', 'DiagPeriodL90D']).size().unstack(fill_value=0)\n",
    "print(cancer_cases_in_clusters)\n"
   ]
  },
  {
   "cell_type": "code",
   "execution_count": 24,
   "metadata": {},
   "outputs": [
    {
     "data": {
      "image/png": "[encoded data removed]",
      "text/plain": [
       "<Figure size 432x288 with 1 Axes>"
      ]
     },
     "metadata": {
      "needs_background": "light"
     },
     "output_type": "display_data"
    }
   ],
   "source": [
    "cancer_cases_in_clusters.plot(kind='bar', stacked=True)\n",
    "plt.title('Distribution of Cancer Cases in Clusters')\n",
    "plt.xlabel('Cluster')\n",
    "plt.ylabel('Count')\n",
    "plt.show()\n"
   ]
  },
  {
   "cell_type": "code",
   "execution_count": 25,
   "metadata": {},
   "outputs": [
    {
     "name": "stdout",
     "output_type": "stream",
     "text": [
      "DiagPeriodL90D         0         1\n",
      "age_cluster                       \n",
      "0               0.230805  0.336298\n",
      "1               0.268850  0.519263\n",
      "2               0.834497  1.402933\n"
     ]
    },
    {
     "name": "stderr",
     "output_type": "stream",
     "text": [
      "/tmp/ipykernel_55996/64830912.py:2: FutureWarning: Support for multi-dimensional indexing (e.g. `obj[:, None]`) is deprecated and will be removed in a future version.  Convert to a numpy array before indexing instead.\n",
      "  cancer_proportion_in_clusters = cancer_cases_in_clusters / cluster_counts[:, None]\n"
     ]
    }
   ],
   "source": [
    "cluster_counts = cluster_diagnosis_df['age_cluster'].value_counts()\n",
    "cancer_proportion_in_clusters = cancer_cases_in_clusters / cluster_counts[:, None]\n",
    "print(cancer_proportion_in_clusters)\n"
   ]
  },
  {
   "cell_type": "code",
   "execution_count": 26,
   "metadata": {},
   "outputs": [
    {
     "data": {
      "image/png": "[encoded data removed]",
      "text/plain": [
       "<Figure size 432x288 with 1 Axes>"
      ]
     },
     "metadata": {
      "needs_background": "light"
     },
     "output_type": "display_data"
    }
   ],
   "source": [
    "cancer_proportion_in_clusters.plot(kind='bar', stacked=True)\n",
    "plt.title('Proportion of Cancer Cases in Clusters')\n",
    "plt.xlabel('Cluster')\n",
    "plt.ylabel('Proportion')\n",
    "plt.show()\n"
   ]
  },
  {
   "cell_type": "code",
   "execution_count": 27,
   "metadata": {},
   "outputs": [
    {
     "name": "stdout",
     "output_type": "stream",
     "text": [
      "Chi-Square Value: 29.96810755615168, p-value: 3.108194070750822e-07\n"
     ]
    }
   ],
   "source": [
    "from scipy.stats import chi2_contingency\n",
    "\n",
    "chi2, p, _, _ = chi2_contingency(cancer_cases_in_clusters)\n",
    "print(f'Chi-Square Value: {chi2}, p-value: {p}')\n"
   ]
  }
 ],
 "metadata": {
  "kernelspec": {
   "display_name": "Python 3",
   "language": "python",
   "name": "python3"
  },
  "language_info": {
   "codemirror_mode": {
    "name": "ipython",
    "version": 3
   },
   "file_extension": ".py",
   "mimetype": "text/x-python",
   "name": "python",
   "nbconvert_exporter": "python",
   "pygments_lexer": "ipython3",
   "version": "3.10.12"
  }
 },
 "nbformat": 4,
 "nbformat_minor": 2
}
