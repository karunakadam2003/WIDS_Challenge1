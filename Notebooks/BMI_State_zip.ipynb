{
  "nbformat": 4,
  "nbformat_minor": 0,
  "metadata": {
    "colab": {
      "provenance": []
    },
    "kernelspec": {
      "name": "python3",
      "display_name": "Python 3"
    },
    "language_info": {
      "name": "python"
    }
  },
  "cells": [
    {
      "cell_type": "code",
      "source": [
        "import pandas as pd\n",
        "\n",
        "# Load the mapping file into a DataFrame\n",
        "mapping_df = pd.read_csv('test.csv')\n",
        "df = pd.read_csv('test.csv')\n",
        "\n",
        "# Check the columns in the DataFrame\n",
        "print(\"Columns in the DataFrame:\")\n",
        "print(df.columns)\n",
        "\n",
        "# Define a function to fill null values in the 'Region' column based on 'patient_state' and 'patient_zip3'\n",
        "def fill_region(row):\n",
        "    if pd.isnull(row['Region']):\n",
        "        if not pd.isnull(row['patient_state']):\n",
        "            matching_rows = mapping_df.loc[mapping_df['patient_state'] == row['patient_state'], 'Region']\n",
        "            if not matching_rows.empty:\n",
        "                return matching_rows.iloc[0]\n",
        "        if not pd.isnull(row['patient_zip3']):\n",
        "            # Find the state associated with the patient_zip3\n",
        "            matching_state_rows = mapping_df.loc[mapping_df['patient_zip3'] == row['patient_zip3'], 'patient_state']\n",
        "            if not matching_state_rows.empty:\n",
        "                state = matching_state_rows.iloc[0]\n",
        "                # Find the region associated with the state\n",
        "                matching_region_rows = mapping_df.loc[mapping_df['patient_state'] == state, 'Region']\n",
        "                if not matching_region_rows.empty:\n",
        "                    return matching_region_rows.iloc[0]\n",
        "    return row['Region']\n",
        "\n",
        "# Define a function to fill null values in the 'patient_state' column based on 'patient_zip3' and 'Region'\n",
        "def fill_state(row):\n",
        "    if pd.isnull(row['patient_state']):\n",
        "        if not pd.isnull(row['patient_zip3']):\n",
        "            matching_rows = mapping_df.loc[mapping_df['patient_zip3'] == row['patient_zip3'], 'patient_state']\n",
        "            if not matching_rows.empty:\n",
        "                return matching_rows.iloc[0]\n",
        "        if not pd.isnull(row['Region']):\n",
        "            matching_rows = mapping_df.loc[mapping_df['Region'] == row['Region'], 'patient_state']\n",
        "            if not matching_rows.empty:\n",
        "                return matching_rows.iloc[0]\n",
        "    return row['patient_state']\n",
        "\n",
        "# Define a function to fill null values in the 'patient_zip3' column based on 'patient_state' and 'Region'\n",
        "def fill_zip(row):\n",
        "    if pd.isnull(row['patient_zip3']):\n",
        "        if not pd.isnull(row['patient_state']):\n",
        "            matching_rows = mapping_df.loc[mapping_df['patient_state'] == row['patient_state'], 'patient_zip3']\n",
        "            if not matching_rows.empty:\n",
        "                return matching_rows.iloc[0]\n",
        "        if not pd.isnull(row['Region']):\n",
        "            matching_rows = mapping_df.loc[mapping_df['Region'] == row['Region'], 'patient_zip3']\n",
        "            if not matching_rows.empty:\n",
        "                return matching_rows.iloc[0]\n",
        "    return row['patient_zip3']\n",
        "\n",
        "# Apply the defined functions to fill null values in the DataFrame\n",
        "df['Region'] = df.apply(fill_region, axis=1)\n",
        "df['patient_state'] = df.apply(fill_state, axis=1)\n",
        "df['patient_zip3'] = df.apply(fill_zip, axis=1)\n",
        "\n",
        "# Handle the case where region, state, and zip are not available but zip is available\n",
        "for index, row in df.iterrows():\n",
        "    if pd.isnull(row['Region']) and pd.isnull(row['patient_state']) and pd.isnull(row['patient_zip3']) and not pd.isnull(row['Zip']):\n",
        "        # Find the state associated with the ZIP code\n",
        "        matching_state_rows = mapping_df.loc[mapping_df['patient_zip3'] == row['Zip'], 'patient_state']\n",
        "        if not matching_state_rows.empty:\n",
        "            state = matching_state_rows.iloc[0]\n",
        "            # Find the region associated with the state\n",
        "            matching_region_rows = mapping_df.loc[mapping_df['patient_state'] == state, 'Region']\n",
        "            if not matching_region_rows.empty:\n",
        "                df.at[index, 'Region'] = matching_region_rows.iloc[0]\n",
        "\n",
        "        df.at[index, 'patient_state'] = state\n",
        "        df.at[index, 'patient_zip3'] = row['Zip']\n",
        "\n",
        "# Save the updated DataFrame to a new CSV file\n",
        "df.to_csv('filled_RSZ.csv', index=False)\n",
        "\n",
        "# Print only the rows where there are missing values in 'patient_state', 'patient_zip3', and 'Region' columns\n",
        "missing_data = df[df[['patient_state', 'patient_zip3', 'Region']].isnull().any(axis=1)]\n",
        "print(\"Data with missing values:\")\n",
        "print(missing_data[['patient_state', 'patient_zip3', 'Region']])\n",
        "\n",
        "# Check for missing values in the 'patient_zip3', 'patient_state', and 'Region' columns\n",
        "missing_zip3 = df['patient_zip3'].isnull().sum()\n",
        "missing_state = df['patient_state'].isnull().sum()\n",
        "missing_region = df['Region'].isnull().sum()\n",
        "\n",
        "print(\"Missing values in 'patient_zip3' column:\", missing_zip3)\n",
        "print(\"Missing values in 'patient_state' column:\", missing_state)\n",
        "print(\"Missing values in 'Region' column:\", missing_region)\n"
      ],
      "metadata": {
        "colab": {
          "base_uri": "https://localhost:8080/"
        },
        "id": "FRrDtvTpANqZ",
        "outputId": "72e21671-1a91-4e06-a5f6-783702c08cd0"
      },
      "execution_count": 66,
      "outputs": [
        {
          "output_type": "stream",
          "name": "stdout",
          "text": [
            "Columns in the DataFrame:\n",
            "Index(['patient_id', 'patient_race', 'payer_type', 'patient_state',\n",
            "       'patient_zip3', 'patient_age', 'patient_gender', 'bmi',\n",
            "       'breast_cancer_diagnosis_code', 'breast_cancer_diagnosis_desc',\n",
            "       'metastatic_cancer_diagnosis_code', 'metastatic_first_novel_treatment',\n",
            "       'metastatic_first_novel_treatment_type', 'Region', 'Division',\n",
            "       'population', 'density', 'age_median', 'age_under_10', 'age_10_to_19',\n",
            "       'age_20s', 'age_30s', 'age_40s', 'age_50s', 'age_60s', 'age_70s',\n",
            "       'age_over_80', 'male', 'female', 'married', 'divorced', 'never_married',\n",
            "       'widowed', 'family_size', 'family_dual_income',\n",
            "       'income_household_median', 'income_household_under_5',\n",
            "       'income_household_5_to_10', 'income_household_10_to_15',\n",
            "       'income_household_15_to_20', 'income_household_20_to_25',\n",
            "       'income_household_25_to_35', 'income_household_35_to_50',\n",
            "       'income_household_50_to_75', 'income_household_75_to_100',\n",
            "       'income_household_100_to_150', 'income_household_150_over',\n",
            "       'income_household_six_figure', 'income_individual_median',\n",
            "       'home_ownership', 'housing_units', 'home_value', 'rent_median',\n",
            "       'rent_burden', 'education_less_highschool', 'education_highschool',\n",
            "       'education_some_college', 'education_bachelors', 'education_graduate',\n",
            "       'education_college_or_above', 'education_stem_degree',\n",
            "       'labor_force_participation', 'unemployment_rate', 'self_employed',\n",
            "       'farmer', 'race_white', 'race_black', 'race_asian', 'race_native',\n",
            "       'race_pacific', 'race_other', 'race_multiple', 'hispanic', 'disabled',\n",
            "       'poverty', 'limited_english', 'commute_time', 'health_uninsured',\n",
            "       'veteran', 'Ozone', 'PM25', 'N02'],\n",
            "      dtype='object')\n",
            "Data with missing values:\n",
            "     patient_state  patient_zip3 Region\n",
            "5773           NaN           645    NaN\n",
            "Missing values in 'patient_zip3' column: 0\n",
            "Missing values in 'patient_state' column: 1\n",
            "Missing values in 'Region' column: 1\n"
          ]
        }
      ]
    },
    {
      "cell_type": "code",
      "source": [
        "from google.colab import files\n",
        "files.download('filled_RSZ.csv')"
      ],
      "metadata": {
        "colab": {
          "base_uri": "https://localhost:8080/",
          "height": 17
        },
        "id": "yhfNN1qQCGs0",
        "outputId": "665d5881-39db-4b76-de88-a1944d3efe13"
      },
      "execution_count": 67,
      "outputs": [
        {
          "output_type": "display_data",
          "data": {
            "text/plain": [
              "<IPython.core.display.Javascript object>"
            ],
            "application/javascript": [
              "\n",
              "    async function download(id, filename, size) {\n",
              "      if (!google.colab.kernel.accessAllowed) {\n",
              "        return;\n",
              "      }\n",
              "      const div = document.createElement('div');\n",
              "      const label = document.createElement('label');\n",
              "      label.textContent = `Downloading \"${filename}\": `;\n",
              "      div.appendChild(label);\n",
              "      const progress = document.createElement('progress');\n",
              "      progress.max = size;\n",
              "      div.appendChild(progress);\n",
              "      document.body.appendChild(div);\n",
              "\n",
              "      const buffers = [];\n",
              "      let downloaded = 0;\n",
              "\n",
              "      const channel = await google.colab.kernel.comms.open(id);\n",
              "      // Send a message to notify the kernel that we're ready.\n",
              "      channel.send({})\n",
              "\n",
              "      for await (const message of channel.messages) {\n",
              "        // Send a message to notify the kernel that we're ready.\n",
              "        channel.send({})\n",
              "        if (message.buffers) {\n",
              "          for (const buffer of message.buffers) {\n",
              "            buffers.push(buffer);\n",
              "            downloaded += buffer.byteLength;\n",
              "            progress.value = downloaded;\n",
              "          }\n",
              "        }\n",
              "      }\n",
              "      const blob = new Blob(buffers, {type: 'application/binary'});\n",
              "      const a = document.createElement('a');\n",
              "      a.href = window.URL.createObjectURL(blob);\n",
              "      a.download = filename;\n",
              "      div.appendChild(a);\n",
              "      a.click();\n",
              "      div.remove();\n",
              "    }\n",
              "  "
            ]
          },
          "metadata": {}
        },
        {
          "output_type": "display_data",
          "data": {
            "text/plain": [
              "<IPython.core.display.Javascript object>"
            ],
            "application/javascript": [
              "download(\"download_863144ef-5efb-4b18-bb92-25a42762a560\", \"filled_RSZ.csv\", 5036147)"
            ]
          },
          "metadata": {}
        }
      ]
    },
    {
      "cell_type": "code",
      "source": [
        "import pandas as pd\n",
        "\n",
        "df = pd.read_csv('filled_RSZ.csv')\n",
        "\n",
        "# Function to calculate mean BMI based on region, state, or zip code\n",
        "def calculate_mean_bmi(region, state, zip_code):\n",
        "    if region != \"Unknown\" and region in region_bmi_mean:\n",
        "        return region_bmi_mean[region]\n",
        "    elif state != \"Unknown\" and state in state_bmi_mean:\n",
        "        return state_bmi_mean[state]\n",
        "    elif zip_code != \"Unknown\" and zip_code in zip_bmi_mean:\n",
        "        return zip_bmi_mean[zip_code]\n",
        "    else:\n",
        "        return None\n",
        "\n",
        "# Calculate mean BMI for each combination of region, state, and zip code\n",
        "region_bmi_mean = df.groupby('Region')['bmi'].mean().to_dict()\n",
        "state_bmi_mean = df.groupby('patient_state')['bmi'].mean().to_dict()\n",
        "zip_bmi_mean = df.groupby('patient_zip3')['bmi'].mean().to_dict()\n",
        "\n",
        "# Fill null values in 'BMI' column based on mean BMI of region, state, or zip code\n",
        "for index, row in df.iterrows():\n",
        "    if pd.isnull(row['bmi']):\n",
        "        mean_bmi = calculate_mean_bmi(row['Region'], row['patient_state'], row['patient_zip3'])\n",
        "        df.at[index, 'bmi'] = mean_bmi\n",
        "\n",
        "# Save the updated DataFrame to a new CSV file\n",
        "df.to_csv('updated_BMI_dataset.csv', index=False)\n",
        "\n",
        "from google.colab import files\n",
        "# files.download('submission_FS3.csv')\n",
        "files.download('updated_BMI_dataset.csv')\n",
        "\n"
      ],
      "metadata": {
        "colab": {
          "base_uri": "https://localhost:8080/",
          "height": 17
        },
        "id": "jFd0i3Dbmldt",
        "outputId": "af751dbe-875d-4fb6-890e-4e0c1c736623"
      },
      "execution_count": 68,
      "outputs": [
        {
          "output_type": "display_data",
          "data": {
            "text/plain": [
              "<IPython.core.display.Javascript object>"
            ],
            "application/javascript": [
              "\n",
              "    async function download(id, filename, size) {\n",
              "      if (!google.colab.kernel.accessAllowed) {\n",
              "        return;\n",
              "      }\n",
              "      const div = document.createElement('div');\n",
              "      const label = document.createElement('label');\n",
              "      label.textContent = `Downloading \"${filename}\": `;\n",
              "      div.appendChild(label);\n",
              "      const progress = document.createElement('progress');\n",
              "      progress.max = size;\n",
              "      div.appendChild(progress);\n",
              "      document.body.appendChild(div);\n",
              "\n",
              "      const buffers = [];\n",
              "      let downloaded = 0;\n",
              "\n",
              "      const channel = await google.colab.kernel.comms.open(id);\n",
              "      // Send a message to notify the kernel that we're ready.\n",
              "      channel.send({})\n",
              "\n",
              "      for await (const message of channel.messages) {\n",
              "        // Send a message to notify the kernel that we're ready.\n",
              "        channel.send({})\n",
              "        if (message.buffers) {\n",
              "          for (const buffer of message.buffers) {\n",
              "            buffers.push(buffer);\n",
              "            downloaded += buffer.byteLength;\n",
              "            progress.value = downloaded;\n",
              "          }\n",
              "        }\n",
              "      }\n",
              "      const blob = new Blob(buffers, {type: 'application/binary'});\n",
              "      const a = document.createElement('a');\n",
              "      a.href = window.URL.createObjectURL(blob);\n",
              "      a.download = filename;\n",
              "      div.appendChild(a);\n",
              "      a.click();\n",
              "      div.remove();\n",
              "    }\n",
              "  "
            ]
          },
          "metadata": {}
        },
        {
          "output_type": "display_data",
          "data": {
            "text/plain": [
              "<IPython.core.display.Javascript object>"
            ],
            "application/javascript": [
              "download(\"download_79fbab3d-eb8e-40f2-ab5b-31ed82d57025\", \"updated_BMI_dataset.csv\", 5107288)"
            ]
          },
          "metadata": {}
        }
      ]
    },
    {
      "cell_type": "code",
      "source": [
        "newdf = pd.read_csv('updated_BMI_dataset.csv')\n",
        "\n",
        "# Specify the column for which you want to check null values\n",
        "column_name = 'bmi'  # Replace 'BMI' with the column name you want to check\n",
        "\n",
        "# Check for null values in the specified column\n",
        "null_values = newdf[column_name].isnull().sum()\n",
        "\n",
        "# Print the number of null values\n",
        "print(f\"Number of null values in column '{column_name}': {null_values}\")\n",
        "\n",
        "# Get the patient IDs where BMI entries are null\n",
        "null_bmi_patients = newdf.loc[df[column_name].isnull(), 'patient_id']\n",
        "\n",
        "# Print the patient IDs\n",
        "print(\"Patient IDs with null BMI entries:\")\n",
        "for patient_id in null_bmi_patients:\n",
        "    print(patient_id)"
      ],
      "metadata": {
        "colab": {
          "base_uri": "https://localhost:8080/"
        },
        "id": "k-xUE9xbr6NM",
        "outputId": "fdb5aac5-aab5-4cf9-b153-1359275f2e41"
      },
      "execution_count": 69,
      "outputs": [
        {
          "output_type": "stream",
          "name": "stdout",
          "text": [
            "Number of null values in column 'bmi': 0\n",
            "Patient IDs with null BMI entries:\n"
          ]
        }
      ]
    },
    {
      "cell_type": "code",
      "source": [
        "import pandas as pd\n",
        "\n",
        "df = pd.read_csv('filled_RSZ.csv')\n",
        "\n",
        "# Function to calculate mean BMI based on region, state, or zip code\n",
        "def calculate_mean_bmi(region, state, zip_code):\n",
        "    if state != \"Unknown\" and state in state_bmi_mean:\n",
        "        return state_bmi_mean[state]\n",
        "    elif zip_code != \"Unknown\" and zip_code in zip_bmi_mean:\n",
        "        return zip_bmi_mean[zip_code]\n",
        "    else:\n",
        "        return overall_mean_bmi\n",
        "\n",
        "# Calculate mean BMI for each combination of state and zip code\n",
        "state_bmi_mean = df.groupby('patient_state')['bmi'].mean().to_dict()\n",
        "zip_bmi_mean = df.groupby('patient_zip3')['bmi'].mean().to_dict()\n",
        "\n",
        "# Calculate overall mean BMI of the entire dataset\n",
        "overall_mean_bmi = df['bmi'].mean()\n",
        "\n",
        "# Fill null values in 'BMI' column based on mean BMI of state or zip code\n",
        "unfilled_patients = []\n",
        "for index, row in df.iterrows():\n",
        "    if pd.isnull(row['bmi']):\n",
        "        mean_bmi = calculate_mean_bmi(row['Region'], row['patient_state'], row['patient_zip3'])\n",
        "        if mean_bmi is not None:\n",
        "            df.at[index, 'bmi'] = mean_bmi\n",
        "        else:\n",
        "            unfilled_patients.append(row['patient_ID'])\n",
        "\n",
        "# Save the updated DataFrame to a new CSV file\n",
        "df.to_csv('updated_BMI_dataset.csv', index=False)\n",
        "\n",
        "# Print the patient IDs for which BMI values are not filled\n",
        "print(\"Patient IDs for which BMI values are not filled:\")\n",
        "print(unfilled_patients)\n"
      ],
      "metadata": {
        "colab": {
          "base_uri": "https://localhost:8080/"
        },
        "id": "YDyJMJuZ3aD6",
        "outputId": "b2d49689-53b7-4bff-c67f-117453268036"
      },
      "execution_count": 20,
      "outputs": [
        {
          "output_type": "stream",
          "name": "stdout",
          "text": [
            "Patient IDs for which BMI values are not filled:\n",
            "[]\n"
          ]
        }
      ]
    },
    {
      "cell_type": "code",
      "source": [
        "newdf = pd.read_csv('updated_BMI_dataset.csv')\n",
        "\n",
        "# Specify the column for which you want to check null values\n",
        "column_name = 'bmi'  # Replace 'BMI' with the column name you want to check\n",
        "\n",
        "# Check for null values in the specified column\n",
        "null_values = newdf[column_name].isnull().sum()\n",
        "\n",
        "# Print the number of null values\n",
        "print(f\"Number of null values in column '{column_name}': {null_values}\")\n",
        "\n",
        "# Get the patient IDs where BMI entries are null\n",
        "null_bmi_patients = newdf.loc[df[column_name].isnull(), 'patient_id']\n",
        "\n",
        "# Print the patient IDs\n",
        "print(\"Patient IDs with null BMI entries:\")\n",
        "for patient_id in null_bmi_patients:\n",
        "    print(patient_id)"
      ],
      "metadata": {
        "colab": {
          "base_uri": "https://localhost:8080/"
        },
        "id": "hhsQBUXI5miq",
        "outputId": "48372cab-2cfa-4a8f-ac77-c6cc4db421cd"
      },
      "execution_count": 55,
      "outputs": [
        {
          "output_type": "stream",
          "name": "stdout",
          "text": [
            "Number of null values in column 'bmi': 0\n",
            "Patient IDs with null BMI entries:\n"
          ]
        }
      ]
    }
  ]
}